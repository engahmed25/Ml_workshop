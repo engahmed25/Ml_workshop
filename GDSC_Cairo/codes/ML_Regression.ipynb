{
 "cells": [
  {
   "cell_type": "markdown",
   "metadata": {
    "_cell_guid": "5254e865-3f9b-45f4-a9e9-9433178c9dc7",
    "_uuid": "421dd581-7605-4704-ab61-ceb177ef4f14",
    "papermill": {
     "duration": 0.026957,
     "end_time": "2021-03-23T07:53:42.748890",
     "exception": false,
     "start_time": "2021-03-23T07:53:42.721933",
     "status": "completed"
    },
    "tags": []
   },
   "source": [
    "# House Prices\n",
    "\n",
    "1. What is the business question? \n",
    "*       With 79 explanatory variables describing (almost) every aspect of residential homes in Ames, Iowa, this competition challenges you to predict the final price of each home.\n",
    "2. What each row represent? \n",
    "*       House\n",
    "3. What is the evaluation method? \n",
    "*       Submissions are evaluated on Root-Mean-Squared-Error (RMSE) \n"
   ]
  },
  {
   "cell_type": "markdown",
   "metadata": {
    "_cell_guid": "1f524fd1-95e3-4550-b967-22cfe8edb5cb",
    "_uuid": "49a4d393-49ad-4a49-b977-e9c2d6df508b",
    "papermill": {
     "duration": 0.026832,
     "end_time": "2021-03-23T07:53:42.802537",
     "exception": false,
     "start_time": "2021-03-23T07:53:42.775705",
     "status": "completed"
    },
    "tags": []
   },
   "source": [
    "# 1. Important imports"
   ]
  },
  {
   "cell_type": "code",
   "execution_count": 55,
   "metadata": {
    "_cell_guid": "9b695a40-dcc0-4b7c-add8-8535b72e9b77",
    "_uuid": "9a0fecc1-3bfd-4caf-a07d-a53e87321d3f",
    "execution": {
     "iopub.execute_input": "2021-03-23T07:53:42.859130Z",
     "iopub.status.busy": "2021-03-23T07:53:42.858129Z",
     "iopub.status.idle": "2021-03-23T07:53:44.752843Z",
     "shell.execute_reply": "2021-03-23T07:53:44.752152Z"
    },
    "papermill": {
     "duration": 1.924578,
     "end_time": "2021-03-23T07:53:44.753069",
     "exception": false,
     "start_time": "2021-03-23T07:53:42.828491",
     "status": "completed"
    },
    "scrolled": false,
    "tags": []
   },
   "outputs": [],
   "source": [
    "# load data libraries\n",
    "import numpy as np # linear algebra library\n",
    "import pandas as pd # data processing, CSV file I/O (e.g. pd.read_csv)\n",
    "from sklearn.model_selection import train_test_split\n",
    "\n",
    "# data understanding libraries\n",
    "import seaborn as sns\n",
    "import matplotlib.pyplot as plt # ploting library\n",
    "%matplotlib inline\n",
    "\n",
    "# data prp\n",
    "from sklearn.preprocessing import RobustScaler\n",
    "\n",
    "\n",
    "# Modeling\n",
    "from sklearn.pipeline import Pipeline\n",
    "from sklearn.linear_model import LinearRegression\n",
    "\n",
    "# Evaluation\n",
    "from sklearn.metrics import mean_squared_error\n"
   ]
  },
  {
   "cell_type": "code",
   "execution_count": 56,
   "metadata": {
    "_cell_guid": "b687895d-c06e-43ea-a0dd-2a05661cb4ef",
    "_uuid": "01f43950-b219-4c04-96d9-90a64d9f7a4d",
    "execution": {
     "iopub.execute_input": "2021-03-23T07:53:44.813132Z",
     "iopub.status.busy": "2021-03-23T07:53:44.812437Z",
     "iopub.status.idle": "2021-03-23T07:53:44.815476Z",
     "shell.execute_reply": "2021-03-23T07:53:44.814922Z"
    },
    "papermill": {
     "duration": 0.037901,
     "end_time": "2021-03-23T07:53:44.815617",
     "exception": false,
     "start_time": "2021-03-23T07:53:44.777716",
     "status": "completed"
    },
    "tags": []
   },
   "outputs": [],
   "source": [
    "pd.set_option('display.max_rows', 10000)\n",
    "pd.set_option('display.max_columns', 500)\n",
    "pd.set_option('display.precision',150)\n",
    "pd.options.display.float_format = '{:,.3f}'.format"
   ]
  },
  {
   "cell_type": "markdown",
   "metadata": {
    "_cell_guid": "9e91deb8-5171-448a-8474-71ddfc4d3bcd",
    "_uuid": "181c1e3e-a896-4504-8400-55e5c0bfb4e5",
    "papermill": {
     "duration": 0.024302,
     "end_time": "2021-03-23T07:53:44.864496",
     "exception": false,
     "start_time": "2021-03-23T07:53:44.840194",
     "status": "completed"
    },
    "tags": []
   },
   "source": [
    "# 2. Load Data"
   ]
  },
  {
   "cell_type": "code",
   "execution_count": 57,
   "metadata": {
    "_cell_guid": "ab07e899-ab63-4f8d-9e60-c3adc94f3291",
    "_uuid": "c157ea44-c6d4-4d63-af85-5499f3310623",
    "execution": {
     "iopub.execute_input": "2021-03-23T07:53:44.924098Z",
     "iopub.status.busy": "2021-03-23T07:53:44.923405Z",
     "iopub.status.idle": "2021-03-23T07:53:45.524161Z",
     "shell.execute_reply": "2021-03-23T07:53:45.524650Z"
    },
    "papermill": {
     "duration": 0.632823,
     "end_time": "2021-03-23T07:53:45.524833",
     "exception": false,
     "start_time": "2021-03-23T07:53:44.892010",
     "status": "completed"
    },
    "scrolled": false,
    "tags": []
   },
   "outputs": [
    {
     "data": {
      "text/plain": [
       "Index(['Id', 'MSSubClass', 'MSZoning', 'LotFrontage', 'LotArea', 'Street',\n",
       "       'Alley', 'LotShape', 'LandContour', 'Utilities', 'LotConfig',\n",
       "       'LandSlope', 'Neighborhood', 'Condition1', 'Condition2', 'BldgType',\n",
       "       'HouseStyle', 'OverallQual', 'OverallCond', 'YearBuilt', 'YearRemodAdd',\n",
       "       'RoofStyle', 'RoofMatl', 'Exterior1st', 'Exterior2nd', 'MasVnrType',\n",
       "       'MasVnrArea', 'ExterQual', 'ExterCond', 'Foundation', 'BsmtQual',\n",
       "       'BsmtCond', 'BsmtExposure', 'BsmtFinType1', 'BsmtFinSF1',\n",
       "       'BsmtFinType2', 'BsmtFinSF2', 'BsmtUnfSF', 'TotalBsmtSF', 'Heating',\n",
       "       'HeatingQC', 'CentralAir', 'Electrical', '1stFlrSF', '2ndFlrSF',\n",
       "       'LowQualFinSF', 'GrLivArea', 'BsmtFullBath', 'BsmtHalfBath', 'FullBath',\n",
       "       'HalfBath', 'BedroomAbvGr', 'KitchenAbvGr', 'KitchenQual',\n",
       "       'TotRmsAbvGrd', 'Functional', 'Fireplaces', 'FireplaceQu', 'GarageType',\n",
       "       'GarageYrBlt', 'GarageFinish', 'GarageCars', 'GarageArea', 'GarageQual',\n",
       "       'GarageCond', 'PavedDrive', 'WoodDeckSF', 'OpenPorchSF',\n",
       "       'EnclosedPorch', '3SsnPorch', 'ScreenPorch', 'PoolArea', 'PoolQC',\n",
       "       'Fence', 'MiscFeature', 'MiscVal', 'MoSold', 'YrSold', 'SaleType',\n",
       "       'SaleCondition', 'SalePrice'],\n",
       "      dtype='object')"
      ]
     },
     "execution_count": 57,
     "metadata": {},
     "output_type": "execute_result"
    }
   ],
   "source": [
    "#read training json file \n",
    "train = pd.read_csv(\"home-data-for-ml-course/train.csv\")\n",
    "train.columns"
   ]
  },
  {
   "cell_type": "code",
   "execution_count": 58,
   "metadata": {},
   "outputs": [
    {
     "data": {
      "text/html": [
       "<div>\n",
       "<style scoped>\n",
       "    .dataframe tbody tr th:only-of-type {\n",
       "        vertical-align: middle;\n",
       "    }\n",
       "\n",
       "    .dataframe tbody tr th {\n",
       "        vertical-align: top;\n",
       "    }\n",
       "\n",
       "    .dataframe thead th {\n",
       "        text-align: right;\n",
       "    }\n",
       "</style>\n",
       "<table border=\"1\" class=\"dataframe\">\n",
       "  <thead>\n",
       "    <tr style=\"text-align: right;\">\n",
       "      <th></th>\n",
       "      <th>LotArea</th>\n",
       "      <th>YearBuilt</th>\n",
       "      <th>1stFlrSF</th>\n",
       "      <th>2ndFlrSF</th>\n",
       "      <th>FullBath</th>\n",
       "      <th>BedroomAbvGr</th>\n",
       "      <th>TotRmsAbvGrd</th>\n",
       "      <th>SalePrice</th>\n",
       "    </tr>\n",
       "  </thead>\n",
       "  <tbody>\n",
       "    <tr>\n",
       "      <th>0</th>\n",
       "      <td>8450</td>\n",
       "      <td>2003</td>\n",
       "      <td>856</td>\n",
       "      <td>854</td>\n",
       "      <td>2</td>\n",
       "      <td>3</td>\n",
       "      <td>8</td>\n",
       "      <td>208500</td>\n",
       "    </tr>\n",
       "    <tr>\n",
       "      <th>1</th>\n",
       "      <td>9600</td>\n",
       "      <td>1976</td>\n",
       "      <td>1262</td>\n",
       "      <td>0</td>\n",
       "      <td>2</td>\n",
       "      <td>3</td>\n",
       "      <td>6</td>\n",
       "      <td>181500</td>\n",
       "    </tr>\n",
       "    <tr>\n",
       "      <th>2</th>\n",
       "      <td>11250</td>\n",
       "      <td>2001</td>\n",
       "      <td>920</td>\n",
       "      <td>866</td>\n",
       "      <td>2</td>\n",
       "      <td>3</td>\n",
       "      <td>6</td>\n",
       "      <td>223500</td>\n",
       "    </tr>\n",
       "    <tr>\n",
       "      <th>3</th>\n",
       "      <td>9550</td>\n",
       "      <td>1915</td>\n",
       "      <td>961</td>\n",
       "      <td>756</td>\n",
       "      <td>1</td>\n",
       "      <td>3</td>\n",
       "      <td>7</td>\n",
       "      <td>140000</td>\n",
       "    </tr>\n",
       "    <tr>\n",
       "      <th>4</th>\n",
       "      <td>14260</td>\n",
       "      <td>2000</td>\n",
       "      <td>1145</td>\n",
       "      <td>1053</td>\n",
       "      <td>2</td>\n",
       "      <td>4</td>\n",
       "      <td>9</td>\n",
       "      <td>250000</td>\n",
       "    </tr>\n",
       "  </tbody>\n",
       "</table>\n",
       "</div>"
      ],
      "text/plain": [
       "   LotArea  YearBuilt  1stFlrSF  2ndFlrSF  FullBath  BedroomAbvGr  \\\n",
       "0     8450       2003       856       854         2             3   \n",
       "1     9600       1976      1262         0         2             3   \n",
       "2    11250       2001       920       866         2             3   \n",
       "3     9550       1915       961       756         1             3   \n",
       "4    14260       2000      1145      1053         2             4   \n",
       "\n",
       "   TotRmsAbvGrd  SalePrice  \n",
       "0             8     208500  \n",
       "1             6     181500  \n",
       "2             6     223500  \n",
       "3             7     140000  \n",
       "4             9     250000  "
      ]
     },
     "execution_count": 58,
     "metadata": {},
     "output_type": "execute_result"
    }
   ],
   "source": [
    "columns_selected = ['LotArea','YearBuilt','1stFlrSF','2ndFlrSF','FullBath',\n",
    "                        'BedroomAbvGr','TotRmsAbvGrd','SalePrice']\n",
    "data = train[columns_selected]\n",
    "data.head()"
   ]
  },
  {
   "cell_type": "code",
   "execution_count": 59,
   "metadata": {},
   "outputs": [
    {
     "name": "stdout",
     "output_type": "stream",
     "text": [
      "Train set size is  1022\n",
      "Test set size is  438\n"
     ]
    }
   ],
   "source": [
    "train_data, test_data = train_test_split(data, test_size=0.3, random_state=1)\n",
    "print(\"Train set size is \",len(train_data))\n",
    "print(\"Test set size is \",len(test_data))"
   ]
  },
  {
   "cell_type": "markdown",
   "metadata": {},
   "source": [
    "# 2. Data Understanding"
   ]
  },
  {
   "cell_type": "code",
   "execution_count": 7,
   "metadata": {},
   "outputs": [
    {
     "name": "stdout",
     "output_type": "stream",
     "text": [
      "<class 'pandas.core.frame.DataFrame'>\n",
      "Int64Index: 1022 entries, 632 to 1061\n",
      "Data columns (total 8 columns):\n",
      " #   Column        Non-Null Count  Dtype\n",
      "---  ------        --------------  -----\n",
      " 0   LotArea       1022 non-null   int64\n",
      " 1   YearBuilt     1022 non-null   int64\n",
      " 2   1stFlrSF      1022 non-null   int64\n",
      " 3   2ndFlrSF      1022 non-null   int64\n",
      " 4   FullBath      1022 non-null   int64\n",
      " 5   BedroomAbvGr  1022 non-null   int64\n",
      " 6   TotRmsAbvGrd  1022 non-null   int64\n",
      " 7   SalePrice     1022 non-null   int64\n",
      "dtypes: int64(8)\n",
      "memory usage: 71.9 KB\n"
     ]
    }
   ],
   "source": [
    "train_data.info()"
   ]
  },
  {
   "cell_type": "code",
   "execution_count": 8,
   "metadata": {},
   "outputs": [
    {
     "data": {
      "text/html": [
       "<div>\n",
       "<style scoped>\n",
       "    .dataframe tbody tr th:only-of-type {\n",
       "        vertical-align: middle;\n",
       "    }\n",
       "\n",
       "    .dataframe tbody tr th {\n",
       "        vertical-align: top;\n",
       "    }\n",
       "\n",
       "    .dataframe thead th {\n",
       "        text-align: right;\n",
       "    }\n",
       "</style>\n",
       "<table border=\"1\" class=\"dataframe\">\n",
       "  <thead>\n",
       "    <tr style=\"text-align: right;\">\n",
       "      <th></th>\n",
       "      <th>LotArea</th>\n",
       "      <th>YearBuilt</th>\n",
       "      <th>1stFlrSF</th>\n",
       "      <th>2ndFlrSF</th>\n",
       "      <th>FullBath</th>\n",
       "      <th>BedroomAbvGr</th>\n",
       "      <th>TotRmsAbvGrd</th>\n",
       "      <th>SalePrice</th>\n",
       "    </tr>\n",
       "  </thead>\n",
       "  <tbody>\n",
       "    <tr>\n",
       "      <th>count</th>\n",
       "      <td>1,022.000</td>\n",
       "      <td>1,022.000</td>\n",
       "      <td>1,022.000</td>\n",
       "      <td>1,022.000</td>\n",
       "      <td>1,022.000</td>\n",
       "      <td>1,022.000</td>\n",
       "      <td>1,022.000</td>\n",
       "      <td>1,022.000</td>\n",
       "    </tr>\n",
       "    <tr>\n",
       "      <th>mean</th>\n",
       "      <td>10,657.749</td>\n",
       "      <td>1,971.476</td>\n",
       "      <td>1,170.950</td>\n",
       "      <td>344.212</td>\n",
       "      <td>1.564</td>\n",
       "      <td>2.890</td>\n",
       "      <td>6.542</td>\n",
       "      <td>181,438.534</td>\n",
       "    </tr>\n",
       "    <tr>\n",
       "      <th>std</th>\n",
       "      <td>10,441.234</td>\n",
       "      <td>30.063</td>\n",
       "      <td>392.337</td>\n",
       "      <td>435.065</td>\n",
       "      <td>0.538</td>\n",
       "      <td>0.807</td>\n",
       "      <td>1.628</td>\n",
       "      <td>77,165.422</td>\n",
       "    </tr>\n",
       "    <tr>\n",
       "      <th>min</th>\n",
       "      <td>1,300.000</td>\n",
       "      <td>1,872.000</td>\n",
       "      <td>334.000</td>\n",
       "      <td>0.000</td>\n",
       "      <td>0.000</td>\n",
       "      <td>0.000</td>\n",
       "      <td>2.000</td>\n",
       "      <td>39,300.000</td>\n",
       "    </tr>\n",
       "    <tr>\n",
       "      <th>25%</th>\n",
       "      <td>7,558.500</td>\n",
       "      <td>1,954.000</td>\n",
       "      <td>888.000</td>\n",
       "      <td>0.000</td>\n",
       "      <td>1.000</td>\n",
       "      <td>2.000</td>\n",
       "      <td>5.000</td>\n",
       "      <td>130,500.000</td>\n",
       "    </tr>\n",
       "    <tr>\n",
       "      <th>50%</th>\n",
       "      <td>9,528.000</td>\n",
       "      <td>1,973.000</td>\n",
       "      <td>1,095.000</td>\n",
       "      <td>0.000</td>\n",
       "      <td>2.000</td>\n",
       "      <td>3.000</td>\n",
       "      <td>6.000</td>\n",
       "      <td>163,250.000</td>\n",
       "    </tr>\n",
       "    <tr>\n",
       "      <th>75%</th>\n",
       "      <td>11,643.500</td>\n",
       "      <td>2,001.000</td>\n",
       "      <td>1,413.500</td>\n",
       "      <td>739.000</td>\n",
       "      <td>2.000</td>\n",
       "      <td>3.000</td>\n",
       "      <td>7.000</td>\n",
       "      <td>214,800.000</td>\n",
       "    </tr>\n",
       "    <tr>\n",
       "      <th>max</th>\n",
       "      <td>215,245.000</td>\n",
       "      <td>2,010.000</td>\n",
       "      <td>4,692.000</td>\n",
       "      <td>1,872.000</td>\n",
       "      <td>3.000</td>\n",
       "      <td>8.000</td>\n",
       "      <td>14.000</td>\n",
       "      <td>755,000.000</td>\n",
       "    </tr>\n",
       "  </tbody>\n",
       "</table>\n",
       "</div>"
      ],
      "text/plain": [
       "          LotArea  YearBuilt  1stFlrSF  2ndFlrSF  FullBath  BedroomAbvGr  \\\n",
       "count   1,022.000  1,022.000 1,022.000 1,022.000 1,022.000     1,022.000   \n",
       "mean   10,657.749  1,971.476 1,170.950   344.212     1.564         2.890   \n",
       "std    10,441.234     30.063   392.337   435.065     0.538         0.807   \n",
       "min     1,300.000  1,872.000   334.000     0.000     0.000         0.000   \n",
       "25%     7,558.500  1,954.000   888.000     0.000     1.000         2.000   \n",
       "50%     9,528.000  1,973.000 1,095.000     0.000     2.000         3.000   \n",
       "75%    11,643.500  2,001.000 1,413.500   739.000     2.000         3.000   \n",
       "max   215,245.000  2,010.000 4,692.000 1,872.000     3.000         8.000   \n",
       "\n",
       "       TotRmsAbvGrd   SalePrice  \n",
       "count     1,022.000   1,022.000  \n",
       "mean          6.542 181,438.534  \n",
       "std           1.628  77,165.422  \n",
       "min           2.000  39,300.000  \n",
       "25%           5.000 130,500.000  \n",
       "50%           6.000 163,250.000  \n",
       "75%           7.000 214,800.000  \n",
       "max          14.000 755,000.000  "
      ]
     },
     "execution_count": 8,
     "metadata": {},
     "output_type": "execute_result"
    }
   ],
   "source": [
    "# print a summary of the data in Melbourne data\n",
    "train_data.describe()"
   ]
  },
  {
   "cell_type": "code",
   "execution_count": 12,
   "metadata": {},
   "outputs": [
    {
     "name": "stderr",
     "output_type": "stream",
     "text": [
      "C:\\Users\\eltahera\\AppData\\Local\\Programs\\Python\\Python39\\lib\\site-packages\\seaborn\\distributions.py:2557: FutureWarning: `distplot` is a deprecated function and will be removed in a future version. Please adapt your code to use either `displot` (a figure-level function with similar flexibility) or `histplot` (an axes-level function for histograms).\n",
      "  warnings.warn(msg, FutureWarning)\n"
     ]
    },
    {
     "data": {
      "image/png": "[encoded data removed]",
      "text/plain": [
       "<Figure size 1296x1152 with 8 Axes>"
      ]
     },
     "metadata": {
      "needs_background": "light"
     },
     "output_type": "display_data"
    }
   ],
   "source": [
    "# distribution\n",
    "fig = plt.figure(figsize=(18,16))\n",
    "for index,col in enumerate(columns_selected):\n",
    "    plt.subplot(6,4,index+1)\n",
    "    sns.distplot(train_data.loc[:,col].dropna(), kde=False)\n",
    "fig.tight_layout(pad=1.0)"
   ]
  },
  {
   "cell_type": "code",
   "execution_count": 27,
   "metadata": {},
   "outputs": [
    {
     "data": {
      "image/png": "[encoded data removed]",
      "text/plain": [
       "<Figure size 1008x1080 with 8 Axes>"
      ]
     },
     "metadata": {
      "needs_background": "light"
     },
     "output_type": "display_data"
    }
   ],
   "source": [
    "# check outliers \n",
    "fig = plt.figure(figsize=(14,15))\n",
    "for index,col in enumerate(columns_selected):\n",
    "    plt.subplot(6,4,index+1)\n",
    "    sns.boxplot(y=col, data=train_data.dropna())\n",
    "    plt.grid()\n",
    "fig.tight_layout(pad=1.0)"
   ]
  },
  {
   "cell_type": "code",
   "execution_count": 1,
   "metadata": {},
   "outputs": [
    {
     "ename": "NameError",
     "evalue": "name 'plt' is not defined",
     "output_type": "error",
     "traceback": [
      "\u001b[1;31m---------------------------------------------------------------------------\u001b[0m",
      "\u001b[1;31mNameError\u001b[0m                                 Traceback (most recent call last)",
      "\u001b[1;32m~\\AppData\\Local\\Temp/ipykernel_3404/1287506908.py\u001b[0m in \u001b[0;36m<module>\u001b[1;34m\u001b[0m\n\u001b[0;32m      1\u001b[0m \u001b[1;31m# corr\u001b[0m\u001b[1;33m\u001b[0m\u001b[1;33m\u001b[0m\u001b[0m\n\u001b[1;32m----> 2\u001b[1;33m \u001b[0mplt\u001b[0m\u001b[1;33m.\u001b[0m\u001b[0mfigure\u001b[0m\u001b[1;33m(\u001b[0m\u001b[0mfigsize\u001b[0m\u001b[1;33m=\u001b[0m\u001b[1;33m(\u001b[0m\u001b[1;36m14\u001b[0m\u001b[1;33m,\u001b[0m\u001b[1;36m8\u001b[0m\u001b[1;33m)\u001b[0m\u001b[1;33m)\u001b[0m\u001b[1;33m\u001b[0m\u001b[1;33m\u001b[0m\u001b[0m\n\u001b[0m\u001b[0;32m      3\u001b[0m \u001b[0mcorrelation\u001b[0m \u001b[1;33m=\u001b[0m \u001b[0mtrain_data\u001b[0m\u001b[1;33m.\u001b[0m\u001b[0mcorr\u001b[0m\u001b[1;33m(\u001b[0m\u001b[1;33m)\u001b[0m\u001b[1;33m\u001b[0m\u001b[1;33m\u001b[0m\u001b[0m\n\u001b[0;32m      4\u001b[0m \u001b[0msns\u001b[0m\u001b[1;33m.\u001b[0m\u001b[0mheatmap\u001b[0m\u001b[1;33m(\u001b[0m\u001b[0mcorrelation\u001b[0m\u001b[1;33m,\u001b[0m \u001b[0mmask\u001b[0m \u001b[1;33m=\u001b[0m \u001b[0mcorrelation\u001b[0m \u001b[1;33m<\u001b[0m\u001b[1;36m0.8\u001b[0m\u001b[1;33m,\u001b[0m \u001b[0mlinewidth\u001b[0m\u001b[1;33m=\u001b[0m\u001b[1;36m0.5\u001b[0m\u001b[1;33m,\u001b[0m \u001b[0mcmap\u001b[0m\u001b[1;33m=\u001b[0m\u001b[1;34m'Blues'\u001b[0m\u001b[1;33m)\u001b[0m\u001b[1;33m\u001b[0m\u001b[1;33m\u001b[0m\u001b[0m\n\u001b[0;32m      5\u001b[0m \u001b[0mplt\u001b[0m\u001b[1;33m.\u001b[0m\u001b[0mgrid\u001b[0m\u001b[1;33m(\u001b[0m\u001b[1;33m)\u001b[0m\u001b[1;33m\u001b[0m\u001b[1;33m\u001b[0m\u001b[0m\n",
      "\u001b[1;31mNameError\u001b[0m: name 'plt' is not defined"
     ]
    }
   ],
   "source": [
    "# corr\n",
    "plt.figure(figsize=(14,8))\n",
    "correlation = train_data.corr()\n",
    "sns.heatmap(correlation, mask = correlation <0.8, linewidth=0.5, cmap='Blues')\n",
    "plt.grid()"
   ]
  },
  {
   "cell_type": "code",
   "execution_count": 15,
   "metadata": {},
   "outputs": [
    {
     "data": {
      "text/html": [
       "<div>\n",
       "<style scoped>\n",
       "    .dataframe tbody tr th:only-of-type {\n",
       "        vertical-align: middle;\n",
       "    }\n",
       "\n",
       "    .dataframe tbody tr th {\n",
       "        vertical-align: top;\n",
       "    }\n",
       "\n",
       "    .dataframe thead th {\n",
       "        text-align: right;\n",
       "    }\n",
       "</style>\n",
       "<table border=\"1\" class=\"dataframe\">\n",
       "  <thead>\n",
       "    <tr style=\"text-align: right;\">\n",
       "      <th></th>\n",
       "      <th>SalePrice</th>\n",
       "    </tr>\n",
       "  </thead>\n",
       "  <tbody>\n",
       "    <tr>\n",
       "      <th>SalePrice</th>\n",
       "      <td>1.000</td>\n",
       "    </tr>\n",
       "    <tr>\n",
       "      <th>1stFlrSF</th>\n",
       "      <td>0.588</td>\n",
       "    </tr>\n",
       "    <tr>\n",
       "      <th>FullBath</th>\n",
       "      <td>0.577</td>\n",
       "    </tr>\n",
       "    <tr>\n",
       "      <th>TotRmsAbvGrd</th>\n",
       "      <td>0.535</td>\n",
       "    </tr>\n",
       "    <tr>\n",
       "      <th>YearBuilt</th>\n",
       "      <td>0.500</td>\n",
       "    </tr>\n",
       "    <tr>\n",
       "      <th>2ndFlrSF</th>\n",
       "      <td>0.308</td>\n",
       "    </tr>\n",
       "    <tr>\n",
       "      <th>LotArea</th>\n",
       "      <td>0.274</td>\n",
       "    </tr>\n",
       "    <tr>\n",
       "      <th>BedroomAbvGr</th>\n",
       "      <td>0.182</td>\n",
       "    </tr>\n",
       "  </tbody>\n",
       "</table>\n",
       "</div>"
      ],
      "text/plain": [
       "              SalePrice\n",
       "SalePrice         1.000\n",
       "1stFlrSF          0.588\n",
       "FullBath          0.577\n",
       "TotRmsAbvGrd      0.535\n",
       "YearBuilt         0.500\n",
       "2ndFlrSF          0.308\n",
       "LotArea           0.274\n",
       "BedroomAbvGr      0.182"
      ]
     },
     "execution_count": 15,
     "metadata": {},
     "output_type": "execute_result"
    }
   ],
   "source": [
    "# corr to label\n",
    "numeric_train = train_data.select_dtypes(exclude=['object'])\n",
    "correlation = numeric_train.corr()\n",
    "correlation[['SalePrice']].sort_values(['SalePrice'], ascending=False)"
   ]
  },
  {
   "cell_type": "code",
   "execution_count": 25,
   "metadata": {},
   "outputs": [
    {
     "name": "stderr",
     "output_type": "stream",
     "text": [
      "C:\\Users\\eltahera\\AppData\\Local\\Programs\\Python\\Python39\\lib\\site-packages\\seaborn\\distributions.py:2557: FutureWarning: `distplot` is a deprecated function and will be removed in a future version. Please adapt your code to use either `displot` (a figure-level function with similar flexibility) or `histplot` (an axes-level function for histograms).\n",
      "  warnings.warn(msg, FutureWarning)\n"
     ]
    },
    {
     "data": {
      "image/png": "[encoded data removed]",
      "text/plain": [
       "<Figure size 720x432 with 1 Axes>"
      ]
     },
     "metadata": {
      "needs_background": "light"
     },
     "output_type": "display_data"
    }
   ],
   "source": [
    "# dist of label\n",
    "plt.figure(figsize=(10,6))\n",
    "plt.title(\"Before transformation of SalePrice\")\n",
    "dist = sns.distplot(train_data['SalePrice'],norm_hist=False)\n",
    "plt.grid()"
   ]
  },
  {
   "cell_type": "markdown",
   "metadata": {},
   "source": [
    "# 3. Data Prep"
   ]
  },
  {
   "cell_type": "code",
   "execution_count": 62,
   "metadata": {},
   "outputs": [],
   "source": [
    "def prep_df(train, test, cols):\n",
    "    # remove outliers\n",
    "    train = train.drop(train[train['LotArea'] > 100000].index)\n",
    "\n",
    "    # scale features    \n",
    "    transformer = RobustScaler().fit(train[cols])\n",
    "    train[cols] = transformer.transform(train[cols])\n",
    "    test[cols] = transformer.transform(test[cols])\n",
    "    return train, test"
   ]
  },
  {
   "cell_type": "code",
   "execution_count": 63,
   "metadata": {},
   "outputs": [],
   "source": [
    "prep_columns = ['LotArea','1stFlrSF','2ndFlrSF','FullBath', 'BedroomAbvGr','TotRmsAbvGrd']\n",
    "train_preped, test_preped =  prep_df(train_data, test_data, prep_columns)"
   ]
  },
  {
   "cell_type": "markdown",
   "metadata": {},
   "source": [
    "# Modeling \n",
    "## 1) Simple Linear Regression"
   ]
  },
  {
   "cell_type": "code",
   "execution_count": 64,
   "metadata": {},
   "outputs": [],
   "source": [
    "# Features\n",
    "X = ['YearBuilt']\n",
    "# Target\n",
    "y = 'SalePrice'\n",
    "\n",
    "# select columns\n",
    "train_X = train_preped[X]\n",
    "train_y = train_preped[y]\n",
    "test_X = test_preped[X]\n",
    "test_y = test_preped[y]"
   ]
  },
  {
   "cell_type": "code",
   "execution_count": 65,
   "metadata": {},
   "outputs": [],
   "source": [
    "# Creating the model\n",
    "model = LinearRegression()\n",
    "\n",
    "# Fitting the model\n",
    "model.fit(train_X, train_y)\n",
    "\n",
    "# Predictions\n",
    "predictions = model.predict(test_X)"
   ]
  },
  {
   "cell_type": "code",
   "execution_count": 66,
   "metadata": {},
   "outputs": [
    {
     "data": {
      "text/plain": [
       "<matplotlib.legend.Legend at 0x24d6e4dcfa0>"
      ]
     },
     "execution_count": 66,
     "metadata": {},
     "output_type": "execute_result"
    },
    {
     "data": {
      "image/png": "[encoded data removed]",
      "text/plain": [
       "<Figure size 432x288 with 1 Axes>"
      ]
     },
     "metadata": {
      "needs_background": "light"
     },
     "output_type": "display_data"
    }
   ],
   "source": [
    "plt.scatter(train_X, train_y, label='Raw Data')\n",
    "plt.plot(train_X,model.coef_*train_X +model.intercept_, color='red')\n",
    "plt.title('Year Built vs Price')\n",
    "plt.xlabel('Year')\n",
    "plt.ylabel('Price')\n",
    "plt.legend()"
   ]
  },
  {
   "cell_type": "markdown",
   "metadata": {},
   "source": [
    "## 2) Multi Linear Regression"
   ]
  },
  {
   "cell_type": "code",
   "execution_count": 68,
   "metadata": {},
   "outputs": [],
   "source": [
    "# Features\n",
    "X = ['LotArea','YearBuilt','1stFlrSF','2ndFlrSF','FullBath', 'BedroomAbvGr','TotRmsAbvGrd']\n",
    "# Target\n",
    "y = 'SalePrice'\n",
    "\n",
    "# select columns\n",
    "train_X = train_preped[X]\n",
    "train_y = train_preped[y]\n",
    "test_X = test_preped[X]\n",
    "test_y = test_preped[y]"
   ]
  },
  {
   "cell_type": "code",
   "execution_count": 69,
   "metadata": {},
   "outputs": [],
   "source": [
    "# Creating the model\n",
    "model = LinearRegression()\n",
    "\n",
    "# Fitting the model\n",
    "model.fit(train_X, train_y)\n",
    "\n",
    "# Predictions\n",
    "predictions = model.predict(test_X)"
   ]
  },
  {
   "cell_type": "code",
   "execution_count": null,
   "metadata": {},
   "outputs": [],
   "source": []
  }
 ],
 "metadata": {
  "interpreter": {
   "hash": "f21363c54e45c42a42718b476181a25845e17b91509696b73cf284c791fa9516"
  },
  "kernelspec": {
   "display_name": "Python 3 (ipykernel)",
   "language": "python",
   "name": "python3"
  },
  "language_info": {
   "codemirror_mode": {
    "name": "ipython",
    "version": 3
   },
   "file_extension": ".py",
   "mimetype": "text/x-python",
   "name": "python",
   "nbconvert_exporter": "python",
   "pygments_lexer": "ipython3",
   "version": "3.9.7"
  },
  "varInspector": {
   "cols": {
    "lenName": 16,
    "lenType": 16,
    "lenVar": 40
   },
   "kernels_config": {
    "python": {
     "delete_cmd_postfix": "",
     "delete_cmd_prefix": "del ",
     "library": "var_list.py",
     "varRefreshCmd": "print(var_dic_list())"
    },
    "r": {
     "delete_cmd_postfix": ") ",
     "delete_cmd_prefix": "rm(",
     "library": "var_list.r",
     "varRefreshCmd": "cat(var_dic_list()) "
    }
   },
   "types_to_exclude": [
    "module",
    "function",
    "builtin_function_or_method",
    "instance",
    "_Feature"
   ],
   "window_display": false
  }
 },
 "nbformat": 4,
 "nbformat_minor": 2
}
